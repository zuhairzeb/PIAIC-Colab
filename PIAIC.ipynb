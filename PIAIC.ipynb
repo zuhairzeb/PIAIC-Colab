{
  "nbformat": 4,
  "nbformat_minor": 0,
  "metadata": {
    "colab": {
      "provenance": [],
      "authorship_tag": "ABX9TyNzEuriXAM3pLfEol6niaoL",
      "include_colab_link": true
    },
    "kernelspec": {
      "name": "python3",
      "display_name": "Python 3"
    },
    "language_info": {
      "name": "python"
    }
  },
  "cells": [
    {
      "cell_type": "markdown",
      "metadata": {
        "id": "view-in-github",
        "colab_type": "text"
      },
      "source": [
        "<a href=\"https://colab.research.google.com/github/zuhairzeb/PIAIC-Colab/blob/main/PIAIC.ipynb\" target=\"_parent\"><img src=\"https://colab.research.google.com/assets/colab-badge.svg\" alt=\"Open In Colab\"/></a>"
      ]
    },
    {
      "cell_type": "code",
      "source": [
        "# prompt: print\n",
        "\n",
        "print(\"Hello World!\")\n"
      ],
      "metadata": {
        "colab": {
          "base_uri": "https://localhost:8080/"
        },
        "id": "P45CoWDRpgUf",
        "outputId": "bbdc2b60-4f9d-4937-d275-a99165b89ab5"
      },
      "execution_count": null,
      "outputs": [
        {
          "output_type": "stream",
          "name": "stdout",
          "text": [
            "Hello World!\n"
          ]
        }
      ]
    },
    {
      "cell_type": "code",
      "source": [],
      "metadata": {
        "id": "xTfKDCKRqT3t"
      },
      "execution_count": null,
      "outputs": []
    },
    {
      "cell_type": "code",
      "source": [
        "# prompt: write a function to display list of fruits\n",
        "\n",
        "def display_fruits():\n",
        "  \"\"\"\n",
        "  This function displays a list of fruits.\n",
        "  \"\"\"\n",
        "  fruits = [\"Apple\", \"Banana\", \"Cherry\", \"Grape\"]\n",
        "  print(\"List of fruits:\")\n",
        "  for fruit in fruits:\n",
        "    print(fruit)\n"
      ],
      "metadata": {
        "id": "2BdJYyQcqT5z"
      },
      "execution_count": null,
      "outputs": []
    }
  ]
}