{
  "nbformat": 4,
  "nbformat_minor": 0,
  "metadata": {
    "colab": {
      "provenance": [],
      "authorship_tag": "ABX9TyMCe0cIrBGGQlYCzGwwHpqS",
      "include_colab_link": true
    },
    "kernelspec": {
      "name": "python3",
      "display_name": "Python 3"
    },
    "language_info": {
      "name": "python"
    }
  },
  "cells": [
    {
      "cell_type": "markdown",
      "metadata": {
        "id": "view-in-github",
        "colab_type": "text"
      },
      "source": [
        "<a href=\"https://colab.research.google.com/github/zuhairzeb/PIAIC-Colab/blob/main/PIAIC.ipynb\" target=\"_parent\"><img src=\"https://colab.research.google.com/assets/colab-badge.svg\" alt=\"Open In Colab\"/></a>"
      ]
    },
    {
      "cell_type": "code",
      "source": [
        "# prompt: print\n",
        "\n",
        "print(\"Hello World!\")\n"
      ],
      "metadata": {
        "colab": {
          "base_uri": "https://localhost:8080/"
        },
        "id": "P45CoWDRpgUf",
        "outputId": "bbdc2b60-4f9d-4937-d275-a99165b89ab5"
      },
      "execution_count": null,
      "outputs": [
        {
          "output_type": "stream",
          "name": "stdout",
          "text": [
            "Hello World!\n"
          ]
        }
      ]
    },
    {
      "cell_type": "code",
      "source": [
        "# prompt: print\n",
        "\n",
        "print(\"Hello World!\")\n"
      ],
      "metadata": {
        "id": "xTfKDCKRqT3t",
        "colab": {
          "base_uri": "https://localhost:8080/"
        },
        "outputId": "336bf3b0-064c-441d-cd58-ff0a263ff5cd"
      },
      "execution_count": null,
      "outputs": [
        {
          "output_type": "stream",
          "name": "stdout",
          "text": [
            "Hello World!\n"
          ]
        }
      ]
    },
    {
      "cell_type": "code",
      "source": [
        "# prompt: write a function to display list of cars\n",
        "\n",
        "def display_cars(cars):\n",
        "  \"\"\"\n",
        "  This function displays a list of cars.\n",
        "  \"\"\"\n",
        "  for car in cars:\n",
        "    print(car)\n",
        "\n",
        "# Example usage:\n",
        "cars = [\"Ford\", \"BMW\", \"Toyota\", \"Honda\"]\n",
        "display_cars(cars)\n"
      ],
      "metadata": {
        "colab": {
          "base_uri": "https://localhost:8080/"
        },
        "id": "MC7xVJZZt_kh",
        "outputId": "d6fca401-eedf-4e24-ea24-28e97a708a98"
      },
      "execution_count": null,
      "outputs": [
        {
          "output_type": "stream",
          "name": "stdout",
          "text": [
            "Ford\n",
            "BMW\n",
            "Toyota\n",
            "Honda\n"
          ]
        }
      ]
    }
  ]
}